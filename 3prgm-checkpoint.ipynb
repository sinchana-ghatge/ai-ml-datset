{
 "cells": [
  {
   "cell_type": "code",
   "execution_count": 1,
   "id": "1a95a286",
   "metadata": {},
   "outputs": [
    {
     "name": "stdout",
     "output_type": "stream",
     "text": [
      "['Sunny' 'Warm' 'High' 'Strong' 'Warm' 'Same']\n",
      "[['?', '?', '?', '?', 'Warm', '?'], ['?', '?', '?', '?', '?', 'Same']]\n"
     ]
    }
   ],
   "source": [
    "import pandas as pd\n",
    "df=pd.read_csv(\"trainingexamplesT.csv\")\n",
    "import numpy as np\n",
    "features=np.array(df.iloc[:,0:-1])\n",
    "target=np.array(df.iloc[:,-1])\n",
    "specific_h=features[0].copy()\n",
    "generic_h=[['?' for i in range (len(specific_h))] for i in range(len(specific_h))]\n",
    "for i,h in enumerate(features):\n",
    " if target[i]==\"Yes\":\n",
    "  for x in range(len(specific_h)):\n",
    "   if h[x]!=specific_h[x]:\n",
    "     specific_h[x]='?'\n",
    "     generic_h[x][x]='?'\n",
    "else:\n",
    "    for x in range(len(specific_h)):\n",
    "      if h[x]!=specific_h[x]:\n",
    "        generic_h[x][x]=specific_h[x]\n",
    "      else:\n",
    "        generic_h[x][x]='?'\n",
    "indices=[i for i,val in enumerate(generic_h) if val==['?','?','?','?','?','?'] ]\n",
    "for i in indices:\n",
    " generic_h.remove(['?','?','?','?','?','?'])\n",
    "print(specific_h)\n",
    "print(generic_h)"
   ]
  },
  {
   "cell_type": "code",
   "execution_count": null,
   "id": "29505a1c",
   "metadata": {},
   "outputs": [],
   "source": []
  }
 ],
 "metadata": {
  "kernelspec": {
   "display_name": "Python 3 (ipykernel)",
   "language": "python",
   "name": "python3"
  },
  "language_info": {
   "codemirror_mode": {
    "name": "ipython",
    "version": 3
   },
   "file_extension": ".py",
   "mimetype": "text/x-python",
   "name": "python",
   "nbconvert_exporter": "python",
   "pygments_lexer": "ipython3",
   "version": "3.9.13"
  }
 },
 "nbformat": 4,
 "nbformat_minor": 5
}
