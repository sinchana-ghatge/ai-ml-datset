{
 "cells": [
  {
   "cell_type": "code",
   "execution_count": 1,
   "id": "332c1439",
   "metadata": {},
   "outputs": [
    {
     "name": "stdout",
     "output_type": "stream",
     "text": [
      "List of attribut name\n",
      "    Outlook  Temperature  Humidity  Windy  PlayTennis\n",
      "0         0            0         0  False           0\n",
      "1         0            0         0   True           0\n",
      "2         1            0         0  False           1\n",
      "3         2            1         0  False           1\n",
      "4         2            2         1  False           1\n",
      "5         2            2         1   True           0\n",
      "6         1            2         1   True           1\n",
      "7         0            1         0  False           0\n",
      "8         0            2         1  False           1\n",
      "9         2            1         1  False           1\n",
      "10        0            1         1   True           1\n",
      "11        1            1         0   True           1\n",
      "12        1            0         1  False           1\n",
      "13        2            1         0   True           0\n",
      "The tree structure\n",
      "{'Outlook': {0: {'Humidity': {0: 0, 1: 1}},\n",
      "             1: 1,\n",
      "             2: {'Windy': {False: 1, True: 0}}}}\n"
     ]
    }
   ],
   "source": [
    "import pandas as pd\n",
    "from pprint import pprint\n",
    "from sklearn.feature_selection import mutual_info_classif\n",
    "from collections import Counter\n",
    "\n",
    "def id3(df, target_attribute, attribute_names, default_class=None):\n",
    "    cnt=Counter(x for x in df[target_attribute])\n",
    "    if len(cnt)==1:\n",
    "        return next(iter(cnt))\n",
    "    \n",
    "    elif df.empty or (not attribute_names):\n",
    "         return default_class\n",
    "\n",
    "    else:\n",
    "        gainz = mutual_info_classif(df[attribute_names],df[target_attribute],discrete_features=True)\n",
    "        index_of_max=gainz.tolist().index(max(gainz))\n",
    "        best_attr=attribute_names[index_of_max]\n",
    "        tree={best_attr:{}}\n",
    "        remaining_attribute_names=[i for i in attribute_names if i!=best_attr]\n",
    "        \n",
    "        for attr_val, data_subset in df.groupby(best_attr):\n",
    "            subtree=id3(data_subset, target_attribute, remaining_attribute_names,default_class)\n",
    "            tree[best_attr][attr_val]=subtree\n",
    "        \n",
    "        return tree\n",
    "    \n",
    "\n",
    "df=pd.read_csv(\"p-tennis.csv\")\n",
    "\n",
    "attribute_names=df.columns.tolist()\n",
    "print(\"List of attribut name\")\n",
    "\n",
    "attribute_names.remove(\"PlayTennis\")\n",
    "\n",
    "for colname in df.select_dtypes(\"object\"):\n",
    "    df[colname], _ = df[colname].factorize()\n",
    "    \n",
    "print(df)\n",
    "\n",
    "tree= id3(df,\"PlayTennis\", attribute_names)\n",
    "print(\"The tree structure\")\n",
    "pprint(tree)"
   ]
  },
  {
   "cell_type": "code",
   "execution_count": null,
   "id": "f5e0af9b",
   "metadata": {},
   "outputs": [],
   "source": []
  },
  {
   "cell_type": "code",
   "execution_count": null,
   "id": "e2c13cbe",
   "metadata": {},
   "outputs": [],
   "source": []
  }
 ],
 "metadata": {
  "kernelspec": {
   "display_name": "Python 3 (ipykernel)",
   "language": "python",
   "name": "python3"
  },
  "language_info": {
   "codemirror_mode": {
    "name": "ipython",
    "version": 3
   },
   "file_extension": ".py",
   "mimetype": "text/x-python",
   "name": "python",
   "nbconvert_exporter": "python",
   "pygments_lexer": "ipython3",
   "version": "3.9.7"
  }
 },
 "nbformat": 4,
 "nbformat_minor": 5
}
